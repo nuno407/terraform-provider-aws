{
 "cells": [
  {
   "cell_type": "code",
   "execution_count": 9,
   "metadata": {},
   "outputs": [
    {
     "data": {
      "text/plain": [
       "'{\"Type\": \"Notification\", \"MessageId\": \"949bdc3b-edd8-5955-a56d-81ee9f108f9c\", \"TopicArn\": \"arn:aws:sns:eu-central-1:736745337734:prod-inputEventsTerraform\", \"Message\": \"{\\\\\"topic\\\\\": \\\\\"com.bosch.rcc/rc_srx_prod_cd8bdcd1620afc89cd06cf9c88614201b2d5d04a/things/twin/events/modified\\\\\", \\\\\"headers\\\\\": {\\\\\"kafka.timestamp\\\\\": \\\\\"1700491399286\\\\\", \\\\\"creation-time\\\\\": \\\\\"1700491399286\\\\\", \\\\\"device_id\\\\\": \\\\\"com.bosch.rcc:rc_srx_prod_cd8bdcd1620afc89cd06cf9c88614201b2d5d04a\\\\\", \\\\\"kafka.key\\\\\": \\\\\"com.bosch.rcc:rc_srx_prod_cd8bdcd1620afc89cd06cf9c88614201b2d5d04a\\\\\", \\\\\"orig_adapter\\\\\": \\\\\"hono-mqtt\\\\\", \\\\\"kafka.topic\\\\\": \\\\\"hono.telemetry.tbccf1729c0ac4f748ef8c4a62a953076_hub\\\\\", \\\\\"orig_address\\\\\": \\\\\"telemetry\\\\\", \\\\\"traceparent\\\\\": \\\\\"00-4d241c4507db1ad8ba3a1c4540d6ae23-9d9fcbdbffdf59c5-00\\\\\", \\\\\"qos\\\\\": \\\\\"1\\\\\", \\\\\"ditto-originator\\\\\": \\\\\"integration:bccf1729-c0ac-4f74-8ef8-c4a62a953076_things:hub\\\\\", \\\\\"response-required\\\\\": false, \\\\\"version\\\\\": 2, \\\\\"requested-acks\\\\\": [], \\\\\"content-type\\\\\": \\\\\"application/json\\\\\", \\\\\"correlation-id\\\\\": \\\\\"8b21439d-8b6a-4ff7-a4ad-40bd27182240\\\\\"}, \\\\\"path\\\\\": \\\\\"/features/com.bosch.ivs.camera.CameraServiceEvent\\\\\", \\\\\"value\\\\\": {\\\\\"properties\\\\\": {\\\\\"header\\\\\": {\\\\\"message_type\\\\\": \\\\\"com.bosch.ivs.camera.CameraServiceEvent\\\\\", \\\\\"timestamp_ms\\\\\": 1700490942977, \\\\\"message_id\\\\\": \\\\\"8f981fad-0de6-44c5-83b6-ce841b1b449c\\\\\", \\\\\"boot_id\\\\\": \\\\\"56125064-4e3f-4ce2-bab0-d15ef9e547dd\\\\\"}, \\\\\"camera_name\\\\\": \\\\\"InteriorCamera\\\\\", \\\\\"service_status\\\\\": \\\\\"SERVICE_STATUS__INACTIVE\\\\\"}}, \\\\\"extra\\\\\": {\\\\\"attributes\\\\\": {\\\\\"vin\\\\\": \\\\\"unknown\\\\\", \\\\\"tenant\\\\\": \\\\\"ridecare_companion_fut\\\\\", \\\\\"vehicleType\\\\\": \\\\\"CARMODEL__FIAT_500_312\\\\\", \\\\\"subjectId\\\\\": \\\\\"46bc1d50-9d4c-4f69-b16f-e7bc1ab06192\\\\\", \\\\\"operationMode\\\\\": \\\\\"PRIVATE\\\\\", \\\\\"deviceType\\\\\": \\\\\"hailysharey\\\\\"}}, \\\\\"revision\\\\\": 21165, \\\\\"timestamp\\\\\": \\\\\"2023-11-20T14:43:20.566806115Z\\\\\"}\", \"Timestamp\": \"2023-11-20T14:43:20.596Z\", \"SignatureVersion\": \"1\", \"Signature\": \"Oq7dv3Zz5B/pCIe/SX0ps+qqAJ5ZSORrKNWAun9dE9uu8D600yUDy0Cxcir2aaGIFmRw/pWgDSzdky/5F/LtU4Pmp+G2Fl6o/dA7aa21Td2bfUFZeNAAAg4kxZo5YFUVKd7NzXzp2Cv3+tZxfZi1c7mJm/mLx9x76XscbKu0F7xpft8sfoZ4rvJddm86/+JTE8iqpl1afxMePRz1iWD5NtuQszQenSBYbU7I2Ox7itiUtnNrnXKdVky8hNTcmrQpbU3aj/k81wz+aMFHocJlLP+Ku5z/ME8kt08aANoKsdxAv0ZtEJy/CeAZ9ZszKDYaIjQ6FeLXAlUM6RJXoX1LmQ==\", \"SigningCertURL\": \"https://sns.eu-central-1.amazonaws.com/SimpleNotificationService-01d088a6f77103d0fe307c0069e40ed6.pem\", \"UnsubscribeURL\": \"https://sns.eu-central-1.amazonaws.com/?Action=Unsubscribe&SubscriptionArn=arn:aws:sns:eu-central-1:736745337734:prod-inputEventsTerraform:12f90dc9-0db6-403d-a679-545c71f8610c\", \"MessageAttributes\": {\"deviceType\": {\"Type\": \"String\", \"Value\": \"hailysharey\"}, \"modifiedThingCategory\": {\"Type\": \"String\", \"Value\": \"features\"}, \"operationMode\": {\"Type\": \"String\", \"Value\": \"PRIVATE\"}, \"eventType\": {\"Type\": \"String\", \"Value\": \"com.bosch.ivs.camera.CameraServiceEvent\"}, \"tenant\": {\"Type\": \"String\", \"Value\": \"ridecare_companion_fut\"}, \"subjectId\": {\"Type\": \"String\", \"Value\": \"46bc1d50-9d4c-4f69-b16f-e7bc1ab06192\"}}}'"
      ]
     },
     "execution_count": 9,
     "metadata": {},
     "output_type": "execute_result"
    }
   ],
   "source": [
    "import json\n",
    "\n",
    "with open(\"camera_info_event_miss_device_id.json\", \"r\") as f:\n",
    "    data = json.load(f)\n",
    "    data[\"Message\"] = json.dumps(data[\"Message\"])\n",
    "\n",
    "json.dumps(data)"
   ]
  },
  {
   "cell_type": "code",
   "execution_count": null,
   "metadata": {},
   "outputs": [],
   "source": []
  }
 ],
 "metadata": {
  "kernelspec": {
   "display_name": ".venv",
   "language": "python",
   "name": "python3"
  },
  "language_info": {
   "codemirror_mode": {
    "name": "ipython",
    "version": 3
   },
   "file_extension": ".py",
   "mimetype": "text/x-python",
   "name": "python",
   "nbconvert_exporter": "python",
   "pygments_lexer": "ipython3",
   "version": "3.9.12"
  }
 },
 "nbformat": 4,
 "nbformat_minor": 2
}

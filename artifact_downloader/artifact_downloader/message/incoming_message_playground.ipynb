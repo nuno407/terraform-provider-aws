{
 "cells": [
  {
   "cell_type": "code",
   "execution_count": 1,
   "metadata": {},
   "outputs": [
    {
     "data": {
      "text/plain": [
       "SanitizerMessage(message_id='6ee0499f-0f74-40eb-a286-a5291927c270', body=DeviceInfoEventArtifact(tenant_id='socar', device_id='ivs_slimscaley_prod_ac47c7dd1f25f2ad0dfeca8b684f30e7d0920f52', s3_path=None, timestamp=datetime.datetime(2023, 10, 2, 13, 51, 44, 508000, tzinfo=datetime.timezone.utc), event_name=<EventType.DEVICE_INFO: 'com.bosch.ivs.DeviceInfoEvent'>, artifact_name='device_info', system_report='Git Commit ID: cb5fa5323 | Git Branch Name: | Git is dirty: true | Detected RuntimeEnvironment: IVS_WP76XX_BME688 | Available disk space in (/var/local/ivs/device/rwstatic/): 52731904 | Firmware Version: SWI9X07Y_02.37.03.00 73df45 jenkins 2020/04/08 10:59:14 | Bootloader Version: SWI9X07Y_02.37.03.00 73df45 jenkins 2020/04/08 10:59:14 | Linux Version: 3.18.140 #1 PREEMPT Wed May 4 14:06:27 UTC 2022 | Legato version: legato-19.11.6_82fe3f0af6de0a750a3997e1f93d6594 | Microcontroller version: 002.015 | slimscaley', software_versions=[{'software_name': 'carapplication', 'version': '0.0.1'}, {'software_name': 'damageservice', 'version': '3.1.0'}, {'software_name': 'ivs_algo_smoke', 'version': '3.5'}, {'software_name': 'ivs_car', 'version': '1.5.1'}, {'software_name': 'smokedetectionservice', 'version': '1.0.0'}], device_type='slimscaley', last_shutdown=Shutdown(reason=<ShutdownReason.REGULAR_REBOOT: 'SHUTDOWN_REASON__REGULAR_REBOOT'>, reason_description='[SHUTDOWN] LPM Reset timer expired. Restarting system.', timestamp=datetime.datetime(2023, 10, 2, 13, 48, 58, 868000, tzinfo=datetime.timezone.utc))), receipt_handle='AQEBtx27GZxSx8iNYpAHE8W4D+4RoU9dH9lOAFAcM4LbEoONm5Khc0ksJobaINav6AGFGGAU6wAKKDdP0sFFI0HGm5uF4ddtYZ0hGQ0vx9BqFPGnkoY88o8+WafyFd3+pylNTjQzzzU9cnlejoj6Cg8C/6h04kqh1Q8VoPE6gsrdboyKlOun/MM32qgep6CWrB/dC8u394TJjraKz7gy0M5lhfx7fklFC5ihdu+gXA1ca7WN+3WBuMdHJT/f4eSQqdrUVOIFFcvqyeSkiWJcSNpdcSeMJnaP9LGXsKl9K/FcHHx2VExeVeJitruM6Kuhi7TetCuXPQkxet+y+9/wB2xyzNqgzHy1DkfJeozJppT8EWhg/5TCWA9BoXWZb6T5I6ElX/LehdWULASBrdWmrmbLeD4tcVLAyEU6uR21MvrEbJM=', attributes=MessageAttributesWithSourceContainer[Literal['Sanitizer']](source_container='Sanitizer'))"
      ]
     },
     "execution_count": 1,
     "metadata": {},
     "output_type": "execute_result"
    }
   ],
   "source": [
    "from typing import Literal\n",
    "from downloader.message.incoming_messages import SanitizerMessage, MessageAttributesWithSourceContainer\n",
    "from base.model.artifacts import DiscriminatedArtifact\n",
    "from pydantic import parse_obj_as\n",
    "from pydantic.generics import GenericModel\n",
    "\n",
    "dic = eval(\"\"\"{'MessageId': '6ee0499f-0f74-40eb-a286-a5291927c270', 'ReceiptHandle': 'AQEBtx27GZxSx8iNYpAHE8W4D+4RoU9dH9lOAFAcM4LbEoONm5Khc0ksJobaINav6AGFGGAU6wAKKDdP0sFFI0HGm5uF4ddtYZ0hGQ0vx9BqFPGnkoY88o8+WafyFd3+pylNTjQzzzU9cnlejoj6Cg8C/6h04kqh1Q8VoPE6gsrdboyKlOun/MM32qgep6CWrB/dC8u394TJjraKz7gy0M5lhfx7fklFC5ihdu+gXA1ca7WN+3WBuMdHJT/f4eSQqdrUVOIFFcvqyeSkiWJcSNpdcSeMJnaP9LGXsKl9K/FcHHx2VExeVeJitruM6Kuhi7TetCuXPQkxet+y+9/wB2xyzNqgzHy1DkfJeozJppT8EWhg/5TCWA9BoXWZb6T5I6ElX/LehdWULASBrdWmrmbLeD4tcVLAyEU6uR21MvrEbJM=', 'MD5OfBody': 'fe4c14d5f5a03b059d5f1c32ea19af2f', 'Body': '{\"tenant_id\": \"socar\", \"device_id\": \"ivs_slimscaley_prod_ac47c7dd1f25f2ad0dfeca8b684f30e7d0920f52\", \"timestamp\": \"2023-10-02T13:51:44.508000+00:00\", \"artifact_name\": \"device_info\", \"event_name\": \"com.bosch.ivs.DeviceInfoEvent\", \"system_report\": \"Git Commit ID: cb5fa5323 | Git Branch Name: | Git is dirty: true | Detected RuntimeEnvironment: IVS_WP76XX_BME688 | Available disk space in (/var/local/ivs/device/rwstatic/): 52731904 | Firmware Version: SWI9X07Y_02.37.03.00 73df45 jenkins 2020/04/08 10:59:14 | Bootloader Version: SWI9X07Y_02.37.03.00 73df45 jenkins 2020/04/08 10:59:14 | Linux Version: 3.18.140 #1 PREEMPT Wed May 4 14:06:27 UTC 2022 | Legato version: legato-19.11.6_82fe3f0af6de0a750a3997e1f93d6594 | Microcontroller version: 002.015 | slimscaley\", \"software_versions\": [{\"software_name\": \"carapplication\", \"version\": \"0.0.1\"}, {\"software_name\": \"damageservice\", \"version\": \"3.1.0\"}, {\"software_name\": \"ivs_algo_smoke\", \"version\": \"3.5\"}, {\"software_name\": \"ivs_car\", \"version\": \"1.5.1\"}, {\"software_name\": \"smokedetectionservice\", \"version\": \"1.0.0\"}], \"device_type\": \"slimscaley\", \"last_shutdown\": {\"shutdown_reason\": \"SHUTDOWN_REASON__REGULAR_REBOOT\", \"shutdown_reason_description\": \"[SHUTDOWN] LPM Reset timer expired. Restarting system.\", \"timestamp_ms\": \"2023-10-02T13:48:58.868000+00:00\"}}', 'Attributes': {'SentTimestamp': '1696254706159', 'ApproximateReceiveCount': '1'}, 'MD5OfMessageAttributes': '530d12df98aa5755ac88398de8e68632', 'MessageAttributes': {'SourceContainer': {'StringValue': 'Sanitizer', 'DataType': 'String'}}}\"\"\")\n",
    "\n",
    "parse_obj_as(SanitizerMessage, dic)"
   ]
  }
 ],
 "metadata": {
  "kernelspec": {
   "display_name": "downloader",
   "language": "python",
   "name": "python3"
  },
  "language_info": {
   "codemirror_mode": {
    "name": "ipython",
    "version": 3
   },
   "file_extension": ".py",
   "mimetype": "text/x-python",
   "name": "python",
   "nbconvert_exporter": "python",
   "pygments_lexer": "ipython3",
   "version": "3.9.16"
  },
  "orig_nbformat": 4
 },
 "nbformat": 4,
 "nbformat_minor": 2
}

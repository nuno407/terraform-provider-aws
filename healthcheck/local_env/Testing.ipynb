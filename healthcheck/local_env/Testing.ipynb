{
 "cells": [
  {
   "attachments": {},
   "cell_type": "markdown",
   "metadata": {},
   "source": [
    "### Getting started\n",
    "Please add a DB_URI to the .env file"
   ]
  },
  {
   "attachments": {},
   "cell_type": "markdown",
   "metadata": {},
   "source": [
    "### Import the dotfile that contains all neccessary environment variables\n",
    "also import all neccessary python modules"
   ]
  },
  {
   "cell_type": "code",
   "execution_count": 1,
   "metadata": {},
   "outputs": [],
   "source": [
    "import dotenv\n",
    "dotenv.load_dotenv(dotenv.find_dotenv(), override=True)\n",
    "\n",
    "from healthcheck.model import VideoArtifact, ArtifactType\n",
    "from datetime import datetime\n",
    "from healthcheck.bootstrap import bootstrap_di\n",
    "from kink import di"
   ]
  },
  {
   "attachments": {},
   "cell_type": "markdown",
   "metadata": {},
   "source": [
    "### Define a recording to check\n",
    "For reference, if you need to find this entry in the DB:\n",
    "`find({'video_id':'deepsensation_ivs_slimscaley_develop_yuj2hi_01_InteriorRecorder_1670347177727_1670347206444'})`"
   ]
  },
  {
   "cell_type": "code",
   "execution_count": 2,
   "metadata": {},
   "outputs": [],
   "source": [
    "sample_recording: VideoArtifact = VideoArtifact(\n",
    "    tenant_id=\"deepsensation\",\n",
    "    device_id=\"ivs_slimscaley_develop_yuj2hi_01\",\n",
    "    stream_name=\"deepsensation_ivs_slimscaley_develop_yuj2hi_01_InteriorRecorder\",\n",
    "    footage_from=datetime.fromtimestamp(1670347177.727),\n",
    "    footage_to=datetime.fromtimestamp(1670347206.444)\n",
    ")"
   ]
  },
  {
   "attachments": {},
   "cell_type": "markdown",
   "metadata": {},
   "source": [
    "### Do the healthcheck on the recording"
   ]
  },
  {
   "cell_type": "code",
   "execution_count": 3,
   "metadata": {},
   "outputs": [],
   "source": [
    "bootstrap_di()\n",
    "recording_checker = di[\"checkers\"][ArtifactType.INTERIOR_RECORDER]\n",
    "recording_checker.run_healthcheck(sample_recording)"
   ]
  }
 ],
 "metadata": {
  "kernelspec": {
   "display_name": "Python 3.10.8 64-bit ('healthcheck')",
   "language": "python",
   "name": "python3"
  },
  "language_info": {
   "codemirror_mode": {
    "name": "ipython",
    "version": 3
   },
   "file_extension": ".py",
   "mimetype": "text/x-python",
   "name": "python",
   "nbconvert_exporter": "python",
   "pygments_lexer": "ipython3",
   "version": "3.10.8"
  },
  "orig_nbformat": 4,
  "vscode": {
   "interpreter": {
    "hash": "473f6f8fbca8e54dc11aa35690106c9902d9333b4f3ec1ddae356ba5ad1a279a"
   }
  }
 },
 "nbformat": 4,
 "nbformat_minor": 2
}

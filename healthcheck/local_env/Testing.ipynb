{
 "cells": [
  {
   "attachments": {},
   "cell_type": "markdown",
   "metadata": {},
   "source": [
    "### Getting started\n",
    "Please add a DB_URI to the .env file"
   ]
  },
  {
   "attachments": {},
   "cell_type": "markdown",
   "metadata": {},
   "source": [
    "### Import the dotfile that contains all neccessary environment variables\n",
    "also import all neccessary python modules"
   ]
  },
  {
   "cell_type": "code",
   "execution_count": 33,
   "metadata": {},
   "outputs": [],
   "source": [
    "import dotenv\n",
    "dotenv.load_dotenv(dotenv.find_dotenv(), override=True)\n",
    "\n",
    "from healthcheck.model import VideoArtifact, SnapshotArtifact, ArtifactType\n",
    "from datetime import datetime\n",
    "from healthcheck.bootstrap import bootstrap_di\n",
    "from kink import di\n",
    "bootstrap_di()"
   ]
  },
  {
   "attachments": {},
   "cell_type": "markdown",
   "metadata": {},
   "source": [
    "### Define a recording to check\n",
    "For reference, if you need to find this entry in the DB:\n",
    "`find({'video_id':'deepsensation_ivs_slimscaley_develop_yuj2hi_01_InteriorRecorder_1670347177727_1670347206444'})`"
   ]
  },
  {
   "attachments": {},
   "cell_type": "markdown",
   "metadata": {},
   "source": [
    "### Do the healthcheck on the recording"
   ]
  },
  {
   "cell_type": "code",
   "execution_count": 14,
   "metadata": {},
   "outputs": [],
   "source": [
    "sample_recording: VideoArtifact = VideoArtifact(\n",
    "    tenant_id=\"deepsensation\",\n",
    "    device_id=\"ivs_slimscaley_develop_yuj2hi_01\",\n",
    "    stream_name=\"deepsensation_ivs_slimscaley_develop_yuj2hi_01_InteriorRecorder\",\n",
    "    footage_from=datetime.fromtimestamp(1670347177.727),\n",
    "    footage_to=datetime.fromtimestamp(1670347206.444)\n",
    ")"
   ]
  },
  {
   "cell_type": "code",
   "execution_count": null,
   "metadata": {},
   "outputs": [],
   "source": [
    "recording_checker = di[\"checkers\"][ArtifactType.INTERIOR_RECORDER]\n",
    "recording_checker.run_healthcheck(sample_recording)"
   ]
  },
  {
   "cell_type": "code",
   "execution_count": 35,
   "metadata": {},
   "outputs": [],
   "source": [
    "# datanauts_DATANAUTS_DEV_01_TrainingMultiSnapshot_TrainingMultiSnapshot-dcba1ca7-0e36-4423-883f-726d2bef3df2_1_1662109577000\n",
    "sample_snapshot = SnapshotArtifact(\n",
    "    tenant_id=\"datanauts\",\n",
    "    uuid=\"TrainingMultiSnapshot_TrainingMultiSnapshot-dcba1ca7-0e36-4423-883f-726d2bef3df2_1.jpeg\",\n",
    "    device_id=\"DATANAUTS_DEV_01\",\n",
    "    timestamp=datetime.fromtimestamp(1662109577.000)\n",
    ")"
   ]
  },
  {
   "cell_type": "code",
   "execution_count": null,
   "metadata": {},
   "outputs": [],
   "source": [
    "snapshot_checker = di[\"checkers\"][ArtifactType.SNAPSHOT]\n",
    "snapshot_checker.run_healthcheck(sample_snapshot)"
   ]
  }
 ],
 "metadata": {
  "kernelspec": {
   "display_name": ".venv",
   "language": "python",
   "name": "python3"
  },
  "language_info": {
   "codemirror_mode": {
    "name": "ipython",
    "version": 3
   },
   "file_extension": ".py",
   "mimetype": "text/x-python",
   "name": "python",
   "nbconvert_exporter": "python",
   "pygments_lexer": "ipython3",
   "version": "3.9.12 (main, Dec  5 2022, 15:13:38) \n[GCC 9.4.0]"
  },
  "orig_nbformat": 4,
  "vscode": {
   "interpreter": {
    "hash": "ff54a3ccede2e2c6fab3bb685f70836cd7e27f14006eae4526a48c197451c7a4"
   }
  }
 },
 "nbformat": 4,
 "nbformat_minor": 2
}

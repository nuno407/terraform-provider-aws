{
 "cells": [
  {
   "cell_type": "code",
   "execution_count": 1,
   "metadata": {},
   "outputs": [
    {
     "name": "stdout",
     "output_type": "stream",
     "text": [
      "Requirement already satisfied: pymongo in /home/miguel/.pyenv/versions/3.9.12/envs/MDFParser/lib/python3.9/site-packages (4.3.3)\n",
      "Requirement already satisfied: dnspython<3.0.0,>=1.16.0 in /home/miguel/.pyenv/versions/3.9.12/envs/MDFParser/lib/python3.9/site-packages (from pymongo) (2.4.2)\n",
      "\u001b[33mWARNING: You are using pip version 22.0.4; however, version 23.3 is available.\n",
      "You should consider upgrading via the '/home/miguel/.pyenv/versions/3.9.12/envs/MDFParser/bin/python3.9 -m pip install --upgrade pip' command.\u001b[0m\u001b[33m\n",
      "\u001b[0m"
     ]
    }
   ],
   "source": [
    "!pip install pymongo"
   ]
  },
  {
   "cell_type": "code",
   "execution_count": 15,
   "metadata": {},
   "outputs": [],
   "source": [
    "import pymongo\n",
    "from datetime import datetime\n",
    "client = pymongo.MongoClient('localhost', 27017)"
   ]
  },
  {
   "cell_type": "code",
   "execution_count": 44,
   "metadata": {},
   "outputs": [],
   "source": [
    "db = client[\"some_db\"][\"data\"]"
   ]
  },
  {
   "cell_type": "code",
   "execution_count": 48,
   "metadata": {},
   "outputs": [],
   "source": [
    "agregation = [\n",
    "    {\n",
    "    \"$match\":   {\n",
    "        \"recording_overview.deviceID\": \"desired_value\"\n",
    "        }\n",
    "    }   \n",
    "]\n",
    "\n",
    "\n",
    "correlated = {\n",
    "            \"recording_overview.deviceID\" : \"DATANAUTS_DEV_01\",\n",
    "            \"recording_overview.recording_time\": {\"$lte\": datetime(year=2023, month=10,day=13, hour=12, minute=6, second=1)},\n",
    "            \"$expr\": {\n",
    "                    \"$gte\": [\n",
    "                        #{\"$add\": [\"$recording_overview.recording_time\", {\"$multiply\":[\"$recording_overview.recording_duration\", 1000]}]},\n",
    "                        {\"$add\": [\"$recording_overview.recording_time\", {\"$multiply\":[\"$recording_overview.recording_duration\", 1000]}]},\n",
    "                        datetime(year=1023, month=10,day=13, hour=12, minute=6, second=20)\n",
    "                    ]\n",
    "            }\n",
    "        }"
   ]
  },
  {
   "cell_type": "code",
   "execution_count": 49,
   "metadata": {},
   "outputs": [],
   "source": [
    "result = db.find(correlated)"
   ]
  },
  {
   "cell_type": "code",
   "execution_count": 50,
   "metadata": {},
   "outputs": [
    {
     "data": {
      "text/plain": [
       "[{'_id': ObjectId('652932f5cc597c2302af601f'),\n",
       "  'video_id': 'DATANAUTS_DEV_01_TrainingRecorder_0fef8341-5cfb-4861-a155-cecf3c9d71cd_1697198760044_1697198794752',\n",
       "  'MDF_available': 'No',\n",
       "  '_media_type': 'video',\n",
       "  'filepath': 's3://dev-rcd-raw-video-files/datanauts/DATANAUTS_DEV_01_TrainingRecorder_0fef8341-5cfb-4861-a155-cecf3c9d71cd_1697198760044_1697198794752.mp4',\n",
       "  'recording_overview': {'#snapshots': 0,\n",
       "   'devcloudid': 'cc1daf4c6c6fb40f319a6f544177ea4c6b767234577d53076191ae3e78488c6d',\n",
       "   'deviceID': 'DATANAUTS_DEV_01',\n",
       "   'length': '0:00:30',\n",
       "   'recording_duration': 30.740378,\n",
       "   'recording_time': datetime.datetime(2023, 10, 13, 12, 6, 0, 44000),\n",
       "   'snapshots_paths': [],\n",
       "   'tenantID': 'datanauts',\n",
       "   'time': '2023-10-13 12:06:00',\n",
       "   'chc_duration': 23.024995,\n",
       "   'gnss_coverage': 0.0,\n",
       "   'max_audio_loudness': -31.3313,\n",
       "   'max_person_count': 0,\n",
       "   'mean_audio_bias': 0.3605970521739131,\n",
       "   'median_person_count': 0,\n",
       "   'number_chc_events': 1,\n",
       "   'ride_detection_people_count_after': -1,\n",
       "   'ride_detection_people_count_before': -1,\n",
       "   'sum_door_closed': 0,\n",
       "   'variance_person_count': 0.0},\n",
       "  'resolution': '1280x720'}]"
      ]
     },
     "execution_count": 50,
     "metadata": {},
     "output_type": "execute_result"
    }
   ],
   "source": [
    "[r for r in result]"
   ]
  },
  {
   "cell_type": "code",
   "execution_count": null,
   "metadata": {},
   "outputs": [],
   "source": []
  }
 ],
 "metadata": {
  "kernelspec": {
   "display_name": "Python 3 (ipykernel)",
   "language": "python",
   "name": "python3"
  },
  "language_info": {
   "codemirror_mode": {
    "name": "ipython",
    "version": 3
   },
   "file_extension": ".py",
   "mimetype": "text/x-python",
   "name": "python",
   "nbconvert_exporter": "python",
   "pygments_lexer": "ipython3",
   "version": "3.9.12"
  }
 },
 "nbformat": 4,
 "nbformat_minor": 2
}

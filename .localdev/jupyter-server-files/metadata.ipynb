{
 "cells": [
  {
   "cell_type": "markdown",
   "id": "219cfc53-caac-4994-8fe6-1d89a880cb1f",
   "metadata": {},
   "source": [
    "# Send operator feedback event"
   ]
  },
  {
   "cell_type": "code",
   "execution_count": 5,
   "id": "29058618-dc22-4f3b-a4d5-59df6427a404",
   "metadata": {},
   "outputs": [],
   "source": [
    "import boto3\n",
    "import json\n",
    "import os\n",
    "\n",
    "os.environ[\"AWS_ACCESS_KEY_ID\"]=\"test\"\n",
    "os.environ[\"AWS_SECRET_ACCESS_KEY\"]=\"test\"\n",
    "\n",
    "sqs_client = boto3.client(\"sqs\", endpoint_url=\"http://localstack:4566\", region_name=\"eu-central-1\")"
   ]
  },
  {
   "cell_type": "code",
   "execution_count": 8,
   "id": "117ada4a-d80b-4d7b-b196-d0d591d021a5",
   "metadata": {},
   "outputs": [],
   "source": [
    "queue_name = \"dev-terraform-queue-metadata\"\n",
    "sqs_messages_dir = \"./to_upload_files/metadata\"\n",
    "\n",
    "url = sqs_client.get_queue_url(\n",
    "    QueueName=queue_name,\n",
    ")\n",
    "queue_url = url[\"QueueUrl\"]"
   ]
  },
  {
   "cell_type": "code",
   "execution_count": 9,
   "id": "67d1bc32-0662-4043-b599-505a4332f683",
   "metadata": {},
   "outputs": [],
   "source": [
    "sqs_file_names = os.listdir(sqs_messages_dir)\n",
    "\n",
    "for file_name in sqs_file_names:\n",
    "    message_path = os.path.join(sqs_messages_dir, file_name)\n",
    "    message_file = open(message_path)\n",
    "    message_body = str(json.load(message_file))\n",
    "    \n",
    "    sqs_client.send_message(\n",
    "            QueueUrl=queue_url,\n",
    "            MessageBody=message_body,\n",
    "            MessageAttributes={\n",
    "            'SourceContainer': {\n",
    "                'StringValue': 'Sanitizer',\n",
    "                \"DataType\": \"String\"\n",
    "                }\n",
    "            },\n",
    "            )"
   ]
  },
  {
   "cell_type": "code",
   "execution_count": null,
   "id": "2de0a6f9-8eb3-4767-88a5-20cf9782880e",
   "metadata": {},
   "outputs": [],
   "source": []
  },
  {
   "cell_type": "code",
   "execution_count": null,
   "id": "514152f7-397e-483f-a51c-acb7913717f7",
   "metadata": {},
   "outputs": [],
   "source": []
  }
 ],
 "metadata": {
  "kernelspec": {
   "display_name": "Python 3 (ipykernel)",
   "language": "python",
   "name": "python3"
  },
  "language_info": {
   "codemirror_mode": {
    "name": "ipython",
    "version": 3
   },
   "file_extension": ".py",
   "mimetype": "text/x-python",
   "name": "python",
   "nbconvert_exporter": "python",
   "pygments_lexer": "ipython3",
   "version": "3.10.13"
  }
 },
 "nbformat": 4,
 "nbformat_minor": 5
}

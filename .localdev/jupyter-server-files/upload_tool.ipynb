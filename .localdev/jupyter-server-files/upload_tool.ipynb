{
 "cells": [
  {
   "cell_type": "code",
   "execution_count": 1,
   "metadata": {},
   "outputs": [],
   "source": [
    "import boto3\n",
    "import json\n",
    "import os\n",
    "\n",
    "os.environ[\"AWS_ACCESS_KEY_ID\"]=\"test\"\n",
    "os.environ[\"AWS_SECRET_ACCESS_KEY\"]=\"test\"\n",
    "\n",
    "sqs_client = boto3.client(\"sqs\", endpoint_url=\"http://localstack:4566\", region_name=\"eu-central-1\")\n",
    "s3_client = boto3.client(\"s3\", endpoint_url=\"http://localstack:4566\", region_name=\"eu-central-1\")"
   ]
  },
  {
   "cell_type": "code",
   "execution_count": 2,
   "metadata": {},
   "outputs": [],
   "source": [
    "# CONFIGS\n",
    "\n",
    "bucket_name = \"dev-rcd-raw-video-files\"\n",
    "queue_name = \"dev-terraform-queue-mdf-parser\"\n",
    "\n",
    "ROOT_FOLDER = \"to_upload_files\"\n",
    "MESSAGES_FOLDER = \"message_body\"\n",
    "S3_FILES_FOLDER = \"s3_files\"\n",
    "\n",
    "s3_upload_folder = \"datanauts\"\n",
    "\n",
    "url = sqs_client.get_queue_url(\n",
    "    QueueName=queue_name,\n",
    ")\n",
    "queue_url = url[\"QueueUrl\"]\n",
    "\n",
    "sqs_messages_dir = os.path.join(ROOT_FOLDER, MESSAGES_FOLDER)\n",
    "s3_files_dir = os.path.join(ROOT_FOLDER, S3_FILES_FOLDER)"
   ]
  },
  {
   "cell_type": "code",
   "execution_count": 3,
   "metadata": {},
   "outputs": [],
   "source": [
    "#SQS Message Uploader\n",
    "sqs_file_names = os.listdir(sqs_messages_dir)\n",
    "\n",
    "for file_name in sqs_file_names:\n",
    "    message_path = os.path.join(sqs_messages_dir, file_name)\n",
    "    message_file = open(message_path)\n",
    "    message_body = str(json.load(message_file))\n",
    "\n",
    "    #print(message_body)\n",
    "    message = sqs_client.send_message(\n",
    "        QueueUrl=queue_url,\n",
    "        MessageBody=message_body\n",
    "        )"
   ]
  },
  {
   "cell_type": "code",
   "execution_count": 4,
   "metadata": {},
   "outputs": [
    {
     "name": "stdout",
     "output_type": "stream",
     "text": [
      "Debug_Lync/\n",
      "datanauts/datanauts_DATANAUTS_DEV_02_InteriorRecorder_1677844681000_1677844719057.mp4\n",
      "datanauts/datanauts_DATANAUTS_DEV_02_InteriorRecorder_1677844681000_1677844719057_metadata_full.json\n",
      "datanauts/datanauts_DATANAUTS_DEV_02_InteriorRecorder_1677844681000_1677844719057_signals.json\n"
     ]
    }
   ],
   "source": [
    "for key in s3_client.list_objects(Bucket=bucket_name)['Contents']:\n",
    "    print(key['Key'])\n"
   ]
  },
  {
   "cell_type": "code",
   "execution_count": null,
   "metadata": {},
   "outputs": [],
   "source": [
    "#S3 File Uploader\n",
    "s3_file_names = os.listdir(s3_files_dir)\n",
    "\n",
    "for file_name in s3_file_names:\n",
    "    file_path = os.path.join(s3_files_dir, file_name)\n",
    "    s3_path = os.path.join(s3_upload_folder,file_name)\n",
    "    s3_client.upload_file(file_path, bucket_name, s3_path)"
   ]
  },
  {
   "cell_type": "code",
   "execution_count": 3,
   "metadata": {},
   "outputs": [
    {
     "ename": "AttributeError",
     "evalue": "'S3' object has no attribute 'buckets'",
     "output_type": "error",
     "traceback": [
      "\u001b[0;31m---------------------------------------------------------------------------\u001b[0m",
      "\u001b[0;31mAttributeError\u001b[0m                            Traceback (most recent call last)",
      "Cell \u001b[0;32mIn[3], line 1\u001b[0m\n\u001b[0;32m----> 1\u001b[0m \u001b[38;5;28;01mfor\u001b[39;00m bucket \u001b[38;5;129;01min\u001b[39;00m \u001b[43ms3_client\u001b[49m\u001b[38;5;241;43m.\u001b[39;49m\u001b[43mbuckets\u001b[49m\u001b[38;5;241m.\u001b[39mall():\n\u001b[1;32m      2\u001b[0m   \u001b[38;5;28mprint\u001b[39m(bucket\u001b[38;5;241m.\u001b[39mname)\n",
      "File \u001b[0;32m/usr/local/lib/python3.10/site-packages/botocore/client.py:887\u001b[0m, in \u001b[0;36mBaseClient.__getattr__\u001b[0;34m(self, item)\u001b[0m\n\u001b[1;32m    884\u001b[0m \u001b[38;5;28;01mif\u001b[39;00m event_response \u001b[38;5;129;01mis\u001b[39;00m \u001b[38;5;129;01mnot\u001b[39;00m \u001b[38;5;28;01mNone\u001b[39;00m:\n\u001b[1;32m    885\u001b[0m     \u001b[38;5;28;01mreturn\u001b[39;00m event_response\n\u001b[0;32m--> 887\u001b[0m \u001b[38;5;28;01mraise\u001b[39;00m \u001b[38;5;167;01mAttributeError\u001b[39;00m(\n\u001b[1;32m    888\u001b[0m     \u001b[38;5;124mf\u001b[39m\u001b[38;5;124m\"\u001b[39m\u001b[38;5;124m'\u001b[39m\u001b[38;5;132;01m{\u001b[39;00m\u001b[38;5;28mself\u001b[39m\u001b[38;5;241m.\u001b[39m\u001b[38;5;18m__class__\u001b[39m\u001b[38;5;241m.\u001b[39m\u001b[38;5;18m__name__\u001b[39m\u001b[38;5;132;01m}\u001b[39;00m\u001b[38;5;124m'\u001b[39m\u001b[38;5;124m object has no attribute \u001b[39m\u001b[38;5;124m'\u001b[39m\u001b[38;5;132;01m{\u001b[39;00mitem\u001b[38;5;132;01m}\u001b[39;00m\u001b[38;5;124m'\u001b[39m\u001b[38;5;124m\"\u001b[39m\n\u001b[1;32m    889\u001b[0m )\n",
      "\u001b[0;31mAttributeError\u001b[0m: 'S3' object has no attribute 'buckets'"
     ]
    }
   ],
   "source": [
    "for bucket in s3_client.buckets.all():\n",
    "  print(bucket.name)"
   ]
  },
  {
   "cell_type": "code",
   "execution_count": null,
   "metadata": {},
   "outputs": [],
   "source": []
  }
 ],
 "metadata": {
  "kernelspec": {
   "display_name": "Python 3 (ipykernel)",
   "language": "python",
   "name": "python3"
  },
  "language_info": {
   "codemirror_mode": {
    "name": "ipython",
    "version": 3
   },
   "file_extension": ".py",
   "mimetype": "text/x-python",
   "name": "python",
   "nbconvert_exporter": "python",
   "pygments_lexer": "ipython3",
   "version": "3.10.12"
  }
 },
 "nbformat": 4,
 "nbformat_minor": 4
}

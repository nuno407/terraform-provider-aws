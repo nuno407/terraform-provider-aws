{
 "cells": [
  {
   "cell_type": "code",
   "execution_count": 1,
   "id": "999dba28-881a-439b-9816-f3077cabe5d9",
   "metadata": {},
   "outputs": [],
   "source": [
    "import boto3\n",
    "import json\n",
    "import os\n",
    "\n",
    "os.environ[\"AWS_ACCESS_KEY_ID\"]=\"test\"\n",
    "os.environ[\"AWS_SECRET_ACCESS_KEY\"]=\"test\"\n",
    "\n",
    "s3_client = boto3.client(\"s3\", endpoint_url=\"http://localstack:4566\", region_name=\"eu-central-1\")"
   ]
  },
  {
   "cell_type": "code",
   "execution_count": 2,
   "id": "9fb8c00d-5915-42f6-95e5-af9bd25c7d88",
   "metadata": {},
   "outputs": [],
   "source": [
    "# CONFIGS\n",
    "bucket_name = \"dev-ims-raw\"\n",
    "\n",
    "S3_FILES_FOLDER = \"s3_files\"\n",
    "\n",
    "s3_upload_folder = \"batches\""
   ]
  },
  {
   "cell_type": "code",
   "execution_count": 3,
   "id": "df530fc3-1dc0-47d0-9113-ec1fde876af8",
   "metadata": {},
   "outputs": [],
   "source": [
    "#BATCH IMPORTER\n",
    "file_path = \"Kognic-Import-Test-2.zip\"\n",
    "s3_path = os.path.join(s3_upload_folder, file_path)\n",
    "s3_client.upload_file(file_path, bucket_name, s3_path)"
   ]
  },
  {
   "cell_type": "code",
   "execution_count": 4,
   "id": "abf1a6a1-a1c6-4d70-b04a-61e238407bb8",
   "metadata": {},
   "outputs": [
    {
     "name": "stdout",
     "output_type": "stream",
     "text": [
      "batches/Kognic-Import-Test-2.zip\n",
      "batches/Kognic-Import-Test-2/data/datanauts_DATANAUTS_DEV_01_InteriorRecorderPreview_InteriorRecorderPreview-599892f1-f9f8-4069-ac30-f46ef481a53a_2_1683111309251.jpeg\n",
      "batches/Kognic-Import-Test-2/data/datanauts_DATANAUTS_DEV_01_TrainingMultiSnapshot_TrainingMultiSnapshot-0c9f2c1f-a56d-4782-8091-c7b557d8dcd5_1_1681909761703.jpeg\n",
      "batches/Kognic-Import-Test-2/data/datanauts_DATANAUTS_DEV_01_TrainingMultiSnapshot_TrainingMultiSnapshot-49f1bbe8-7329-4a3d-8e2f-e1359951397e_1_1681220927210.jpeg\n",
      "batches/Kognic-Import-Test-2/data/datanauts_DATANAUTS_DEV_01_TrainingMultiSnapshot_TrainingMultiSnapshot-ffe1bed7-1e46-460e-8506-5fe9d5b24db1_11_1681920929248.jpeg\n",
      "batches/Kognic-Import-Test-2/data/datanauts_DATANAUTS_DEV_02_InteriorRecorderPreview_InteriorRecorderPreview-7757e7cf-d62c-4202-bdd7-cd9b52a32572_1_1683044358735.jpeg\n",
      "batches/Kognic-Import-Test-2/data/datanauts_DATANAUTS_DEV_02_InteriorRecorderPreview_InteriorRecorderPreview-7757e7cf-d62c-4202-bdd7-cd9b52a32572_2_1683044358735.jpeg\n",
      "batches/Kognic-Import-Test-2/data/datanauts_DATANAUTS_DEV_02_InteriorRecorderPreview_InteriorRecorderPreview-ece4b52e-da56-43f9-a5f7-ce954f5dcf65_1_1683045959170.jpeg\n",
      "batches/Kognic-Import-Test-2/data/datanauts_DATANAUTS_DEV_02_InteriorRecorderPreview_InteriorRecorderPreview-ece4b52e-da56-43f9-a5f7-ce954f5dcf65_2_1683045959170.jpeg\n",
      "batches/Kognic-Import-Test-2/data/datanauts_DATANAUTS_DEV_02_TrainingMultiSnapshot_TrainingMultiSnapshot-356c60df-e1c4-44e0-ade2-a1aea6595c2a_1_1680173588077.jpeg\n",
      "batches/Kognic-Import-Test-2/data/datanauts_DATANAUTS_DEV_02_TrainingMultiSnapshot_TrainingMultiSnapshot-356c60df-e1c4-44e0-ade2-a1aea6595c2a_2_1680173657073.jpeg\n",
      "batches/Kognic-Import-Test-2/data/datanauts_DATANAUTS_DEV_02_TrainingMultiSnapshot_TrainingMultiSnapshot-5a8a8f3d-5f81-4efb-8c68-a504687454b0_1_1680795110813.jpeg\n",
      "batches/Kognic-Import-Test-2/data/datanauts_DATANAUTS_DEV_02_TrainingMultiSnapshot_TrainingMultiSnapshot-f47e98cf-f016-48cb-b7b8-ef6cc570523f_2_1680536857846.jpeg\n",
      "batches/Kognic-Import-Test-2/data/datanauts_DATANAUTS_DEV_02_TrainingMultiSnapshot_TrainingMultiSnapshot-f7516865-4d71-40d4-981f-bc07b52c8790_1_1680524882673.jpeg\n"
     ]
    }
   ],
   "source": [
    "#LIST BUCKET CONTENTS\n",
    "objects = s3_client.list_objects_v2(Bucket=bucket_name)\n",
    "for obj in objects['Contents']:\n",
    "    print(obj['Key'])"
   ]
  },
  {
   "cell_type": "code",
   "execution_count": null,
   "id": "57866cf9-4078-4082-8bc6-9c9ddc188355",
   "metadata": {},
   "outputs": [],
   "source": []
  }
 ],
 "metadata": {
  "kernelspec": {
   "display_name": "Python 3 (ipykernel)",
   "language": "python",
   "name": "python3"
  },
  "language_info": {
   "codemirror_mode": {
    "name": "ipython",
    "version": 3
   },
   "file_extension": ".py",
   "mimetype": "text/x-python",
   "name": "python",
   "nbconvert_exporter": "python",
   "pygments_lexer": "ipython3",
   "version": "3.10.12"
  }
 },
 "nbformat": 4,
 "nbformat_minor": 5
}

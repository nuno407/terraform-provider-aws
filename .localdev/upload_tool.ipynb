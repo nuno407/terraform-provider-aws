{
 "cells": [
  {
   "cell_type": "code",
   "execution_count": null,
   "metadata": {},
   "outputs": [],
   "source": [
    "import boto3\n",
    "import json\n",
    "import os\n",
    "\n",
    "sqs_client = boto3.client(\"sqs\", endpoint_url=\"http://localhost:4566\")\n",
    "s3_client = boto3.client(\"s3\", endpoint_url=\"http://localhost:4566\")"
   ]
  },
  {
   "cell_type": "code",
   "execution_count": null,
   "metadata": {},
   "outputs": [],
   "source": [
    "# CONFIGS\n",
    "bucket_name = \"dev-rcd-raw-video-files\"\n",
    "queue_name = \"dev-terraform-queue-mdf-parser\"\n",
    "\n",
    "ROOT_FOLDER = \"to_upload_files\"\n",
    "MESSAGES_FOLDER = \"message_body\"\n",
    "S3_FILES_FOLDER = \"s3_files\"\n",
    "\n",
    "s3_upload_folder = \"datanauts\"\n",
    "\n",
    "url = sqs_client.get_queue_url(\n",
    "    QueueName=queue_name,\n",
    ")\n",
    "queue_url = url[\"QueueUrl\"]\n",
    "\n",
    "sqs_messages_dir = os.path.join(ROOT_FOLDER, MESSAGES_FOLDER)\n",
    "s3_files_dir = os.path.join(ROOT_FOLDER, S3_FILES_FOLDER)"
   ]
  },
  {
   "cell_type": "code",
   "execution_count": null,
   "metadata": {},
   "outputs": [],
   "source": [
    "#SQS Message Uploader\n",
    "sqs_file_names = os.listdir(sqs_messages_dir)\n",
    "\n",
    "for file_name in sqs_file_names:\n",
    "    message_path = os.path.join(sqs_messages_dir, file_name)\n",
    "    message_file = open(message_path)\n",
    "    message_body = str(json.load(message_file))\n",
    "\n",
    "    #print(message_body)\n",
    "    message = sqs_client.send_message(\n",
    "        QueueUrl=queue_url,\n",
    "        MessageBody=message_body\n",
    "        )"
   ]
  },
  {
   "cell_type": "code",
   "execution_count": null,
   "metadata": {},
   "outputs": [],
   "source": [
    "#S3 File Uploader\n",
    "s3_file_names = os.listdir(s3_files_dir)\n",
    "\n",
    "for file_name in s3_file_names:\n",
    "    file_path = os.path.join(s3_files_dir, file_name)\n",
    "    s3_path = os.path.join(s3_upload_folder,file_name)\n",
    "    s3_client.upload_file(file_path, bucket_name, s3_path)"
   ]
  },
  {
   "cell_type": "code",
   "execution_count": null,
   "metadata": {},
   "outputs": [],
   "source": [
    "for key in s3_client.list_objects(Bucket=bucket_name)['Contents']:\n",
    "    print(key['Key'])\n"
   ]
  }
 ],
 "metadata": {
  "kernelspec": {
   "display_name": ".venv",
   "language": "python",
   "name": "python3"
  },
  "language_info": {
   "codemirror_mode": {
    "name": "ipython",
    "version": 3
   },
   "file_extension": ".py",
   "mimetype": "text/x-python",
   "name": "python",
   "nbconvert_exporter": "python",
   "pygments_lexer": "ipython3",
   "version": "3.9.12"
  },
  "orig_nbformat": 4
 },
 "nbformat": 4,
 "nbformat_minor": 2
}
